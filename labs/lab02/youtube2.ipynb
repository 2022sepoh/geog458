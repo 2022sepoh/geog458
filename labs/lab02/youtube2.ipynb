{
  "nbformat": 4,
  "nbformat_minor": 0,
  "metadata": {
    "colab": {
      "provenance": [],
      "include_colab_link": true
    },
    "kernelspec": {
      "name": "python3",
      "display_name": "Python 3"
    },
    "language_info": {
      "name": "python"
    }
  },
  "cells": [
    {
      "cell_type": "markdown",
      "metadata": {
        "id": "view-in-github",
        "colab_type": "text"
      },
      "source": [
        "<a href=\"https://colab.research.google.com/github/jakobzhao/geog458/blob/master/labs/lab02/youtube2.ipynb\" target=\"_parent\"><img src=\"https://colab.research.google.com/assets/colab-badge.svg\" alt=\"Open In Colab\"/></a>"
      ]
    },
    {
      "cell_type": "code",
      "source": [
        "# created on April 14, 2021\n",
        "# modified on Jan 2, 2022\n",
        "# modified on April 20, 2023\n",
        "# modified on January 5, 2024\n",
        "# @author:          Bo Zhao\n",
        "# @email:           zhaobo@uw.edu\n",
        "# @website:         https://hgis.uw.edu\n",
        "# @organization:    Department of Geography, University of Washington, Seattle\n",
        "# @description:     A demo of collecting data from YouTube."
      ],
      "metadata": {
        "id": "bVJiWG0ZQ35Z"
      },
      "execution_count": null,
      "outputs": []
    },
    {
      "cell_type": "code",
      "execution_count": null,
      "metadata": {
        "id": "1VMonPRy4f6J",
        "colab": {
          "base_uri": "https://localhost:8080/"
        },
        "outputId": "e222365e-b8b4-4204-91f0-f1d9471e8b26"
      },
      "outputs": [
        {
          "output_type": "stream",
          "name": "stdout",
          "text": [
            "Get:1 https://cloud.r-project.org/bin/linux/ubuntu jammy-cran40/ InRelease [3,626 B]\n",
            "Hit:2 https://developer.download.nvidia.com/compute/cuda/repos/ubuntu2204/x86_64  InRelease\n",
            "Hit:3 http://archive.ubuntu.com/ubuntu jammy InRelease\n",
            "Get:4 http://archive.ubuntu.com/ubuntu jammy-updates InRelease [119 kB]\n",
            "Get:5 http://security.ubuntu.com/ubuntu jammy-security InRelease [110 kB]\n",
            "Hit:6 http://archive.ubuntu.com/ubuntu jammy-backports InRelease\n",
            "Hit:7 https://ppa.launchpadcontent.net/c2d4u.team/c2d4u4.0+/ubuntu jammy InRelease\n",
            "Hit:8 https://ppa.launchpadcontent.net/deadsnakes/ppa/ubuntu jammy InRelease\n",
            "Hit:9 https://ppa.launchpadcontent.net/graphics-drivers/ppa/ubuntu jammy InRelease\n",
            "Get:10 http://archive.ubuntu.com/ubuntu jammy-updates/main amd64 Packages [1,606 kB]\n",
            "Hit:11 https://ppa.launchpadcontent.net/ubuntugis/ppa/ubuntu jammy InRelease\n",
            "Get:12 http://archive.ubuntu.com/ubuntu jammy-updates/restricted amd64 Packages [1,611 kB]\n",
            "Get:13 http://archive.ubuntu.com/ubuntu jammy-updates/universe amd64 Packages [1,307 kB]\n",
            "Get:14 http://security.ubuntu.com/ubuntu jammy-security/universe amd64 Packages [1,047 kB]\n",
            "Get:15 http://security.ubuntu.com/ubuntu jammy-security/restricted amd64 Packages [1,582 kB]\n",
            "Get:16 http://security.ubuntu.com/ubuntu jammy-security/main amd64 Packages [1,332 kB]\n",
            "Fetched 8,718 kB in 2s (4,169 kB/s)\n",
            "Reading package lists... Done\n",
            "Building dependency tree... Done\n",
            "Reading state information... Done\n",
            "24 packages can be upgraded. Run 'apt list --upgradable' to see them.\n",
            "Reading package lists... Done\n",
            "Building dependency tree... Done\n",
            "Reading state information... Done\n",
            "wget is already the newest version (1.21.2-2ubuntu1).\n",
            "curl is already the newest version (7.81.0-1ubuntu1.15).\n",
            "unzip is already the newest version (6.0-26ubuntu3.1).\n",
            "0 upgraded, 0 newly installed, 0 to remove and 24 not upgraded.\n",
            "--2024-01-06 04:44:53--  http://archive.ubuntu.com/ubuntu/pool/main/libu/libu2f-host/libu2f-udev_1.1.4-1_all.deb\n",
            "Resolving archive.ubuntu.com (archive.ubuntu.com)... 91.189.91.82, 91.189.91.83, 185.125.190.36, ...\n",
            "Connecting to archive.ubuntu.com (archive.ubuntu.com)|91.189.91.82|:80... connected.\n",
            "HTTP request sent, awaiting response... 200 OK\n",
            "Length: 3708 (3.6K) [application/vnd.debian.binary-package]\n",
            "Saving to: ‘libu2f-udev_1.1.4-1_all.deb’\n",
            "\n",
            "libu2f-udev_1.1.4-1 100%[===================>]   3.62K  --.-KB/s    in 0s      \n",
            "\n",
            "2024-01-06 04:44:53 (313 MB/s) - ‘libu2f-udev_1.1.4-1_all.deb’ saved [3708/3708]\n",
            "\n",
            "Selecting previously unselected package libu2f-udev.\n",
            "(Reading database ... 121654 files and directories currently installed.)\n",
            "Preparing to unpack libu2f-udev_1.1.4-1_all.deb ...\n",
            "Unpacking libu2f-udev (1.1.4-1) ...\n",
            "Setting up libu2f-udev (1.1.4-1) ...\n",
            "--2024-01-06 04:44:54--  https://dl.google.com/linux/direct/google-chrome-stable_current_amd64.deb\n",
            "Resolving dl.google.com (dl.google.com)... 173.194.212.91, 173.194.212.190, 173.194.212.136, ...\n",
            "Connecting to dl.google.com (dl.google.com)|173.194.212.91|:443... connected.\n",
            "HTTP request sent, awaiting response... 200 OK\n",
            "Length: 105001444 (100M) [application/x-debian-package]\n",
            "Saving to: ‘google-chrome-stable_current_amd64.deb’\n",
            "\n",
            "google-chrome-stabl 100%[===================>] 100.14M   225MB/s    in 0.4s    \n",
            "\n",
            "2024-01-06 04:44:54 (225 MB/s) - ‘google-chrome-stable_current_amd64.deb’ saved [105001444/105001444]\n",
            "\n",
            "Selecting previously unselected package google-chrome-stable.\n",
            "(Reading database ... 121658 files and directories currently installed.)\n",
            "Preparing to unpack google-chrome-stable_current_amd64.deb ...\n",
            "Unpacking google-chrome-stable (120.0.6099.199-1) ...\n",
            "\u001b[1mdpkg:\u001b[0m dependency problems prevent configuration of google-chrome-stable:\n",
            " google-chrome-stable depends on libvulkan1; however:\n",
            "  Package libvulkan1 is not installed.\n",
            "\n",
            "\u001b[1mdpkg:\u001b[0m error processing package google-chrome-stable (--install):\n",
            " dependency problems - leaving unconfigured\n",
            "Processing triggers for man-db (2.10.2-1) ...\n",
            "Errors were encountered while processing:\n",
            " google-chrome-stable\n",
            "--2024-01-06 04:45:07--  https://edgedl.me.gvt1.com/edgedl/chrome/chrome-for-testing/120.0.6099.199/linux64/chromedriver-linux64.zip\n",
            "Resolving edgedl.me.gvt1.com (edgedl.me.gvt1.com)... 34.104.35.123, 2600:1900:4110:86f::\n",
            "Connecting to edgedl.me.gvt1.com (edgedl.me.gvt1.com)|34.104.35.123|:443... connected.\n",
            "HTTP request sent, awaiting response... 404 Not Found\n",
            "2024-01-06 04:45:08 ERROR 404: Not Found.\n",
            "\n",
            "unzip:  cannot find or open /tmp/chromedriver-linux64.zip, /tmp/chromedriver-linux64.zip.zip or /tmp/chromedriver-linux64.zip.ZIP.\n",
            "chmod: cannot access '/tmp/chromedriver-linux64/chromedriver': No such file or directory\n",
            "mv: cannot stat '/tmp/chromedriver-linux64/chromedriver': No such file or directory\n",
            "Collecting selenium\n",
            "  Downloading selenium-4.16.0-py3-none-any.whl (10.0 MB)\n",
            "\u001b[2K     \u001b[90m━━━━━━━━━━━━━━━━━━━━━━━━━━━━━━━━━━━━━━━━\u001b[0m \u001b[32m10.0/10.0 MB\u001b[0m \u001b[31m19.1 MB/s\u001b[0m eta \u001b[36m0:00:00\u001b[0m\n",
            "\u001b[?25hCollecting chromedriver_autoinstaller\n",
            "  Downloading chromedriver_autoinstaller-0.6.3-py3-none-any.whl (7.6 kB)\n",
            "Requirement already satisfied: urllib3[socks]<3,>=1.26 in /usr/local/lib/python3.10/dist-packages (from selenium) (2.0.7)\n",
            "Collecting trio~=0.17 (from selenium)\n",
            "  Downloading trio-0.23.2-py3-none-any.whl (461 kB)\n",
            "\u001b[2K     \u001b[90m━━━━━━━━━━━━━━━━━━━━━━━━━━━━━━━━━━━━━━━━\u001b[0m \u001b[32m461.6/461.6 kB\u001b[0m \u001b[31m40.3 MB/s\u001b[0m eta \u001b[36m0:00:00\u001b[0m\n",
            "\u001b[?25hCollecting trio-websocket~=0.9 (from selenium)\n",
            "  Downloading trio_websocket-0.11.1-py3-none-any.whl (17 kB)\n",
            "Requirement already satisfied: certifi>=2021.10.8 in /usr/local/lib/python3.10/dist-packages (from selenium) (2023.11.17)\n",
            "Requirement already satisfied: packaging>=23.1 in /usr/local/lib/python3.10/dist-packages (from chromedriver_autoinstaller) (23.2)\n",
            "Requirement already satisfied: attrs>=20.1.0 in /usr/local/lib/python3.10/dist-packages (from trio~=0.17->selenium) (23.1.0)\n",
            "Requirement already satisfied: sortedcontainers in /usr/local/lib/python3.10/dist-packages (from trio~=0.17->selenium) (2.4.0)\n",
            "Requirement already satisfied: idna in /usr/local/lib/python3.10/dist-packages (from trio~=0.17->selenium) (3.6)\n",
            "Collecting outcome (from trio~=0.17->selenium)\n",
            "  Downloading outcome-1.3.0.post0-py2.py3-none-any.whl (10 kB)\n",
            "Requirement already satisfied: sniffio>=1.3.0 in /usr/local/lib/python3.10/dist-packages (from trio~=0.17->selenium) (1.3.0)\n",
            "Requirement already satisfied: exceptiongroup in /usr/local/lib/python3.10/dist-packages (from trio~=0.17->selenium) (1.2.0)\n",
            "Collecting wsproto>=0.14 (from trio-websocket~=0.9->selenium)\n",
            "  Downloading wsproto-1.2.0-py3-none-any.whl (24 kB)\n",
            "Requirement already satisfied: pysocks!=1.5.7,<2.0,>=1.5.6 in /usr/local/lib/python3.10/dist-packages (from urllib3[socks]<3,>=1.26->selenium) (1.7.1)\n",
            "Collecting h11<1,>=0.9.0 (from wsproto>=0.14->trio-websocket~=0.9->selenium)\n",
            "  Downloading h11-0.14.0-py3-none-any.whl (58 kB)\n",
            "\u001b[2K     \u001b[90m━━━━━━━━━━━━━━━━━━━━━━━━━━━━━━━━━━━━━━━━\u001b[0m \u001b[32m58.3/58.3 kB\u001b[0m \u001b[31m7.8 MB/s\u001b[0m eta \u001b[36m0:00:00\u001b[0m\n",
            "\u001b[?25hInstalling collected packages: outcome, h11, chromedriver_autoinstaller, wsproto, trio, trio-websocket, selenium\n",
            "Successfully installed chromedriver_autoinstaller-0.6.3 h11-0.14.0 outcome-1.3.0.post0 selenium-4.16.0 trio-0.23.2 trio-websocket-0.11.1 wsproto-1.2.0\n"
          ]
        },
        {
          "output_type": "execute_result",
          "data": {
            "text/plain": []
          },
          "metadata": {},
          "execution_count": 2
        }
      ],
      "source": [
        "%%shell\n",
        "sudo apt -y update\n",
        "sudo apt install -y wget curl unzip\n",
        "wget http://archive.ubuntu.com/ubuntu/pool/main/libu/libu2f-host/libu2f-udev_1.1.4-1_all.deb\n",
        "dpkg -i libu2f-udev_1.1.4-1_all.deb\n",
        "wget https://dl.google.com/linux/direct/google-chrome-stable_current_amd64.deb\n",
        "dpkg -i google-chrome-stable_current_amd64.deb\n",
        "\n",
        "wget -N https://edgedl.me.gvt1.com/edgedl/chrome/chrome-for-testing/120.0.6099.199/linux64/chromedriver-linux64.zip -P /tmp/\n",
        "unzip -o /tmp/chromedriver-linux64.zip -d /tmp/\n",
        "chmod +x /tmp/chromedriver-linux64/chromedriver\n",
        "mv /tmp/chromedriver-linux64/chromedriver /usr/local/bin/chromedriver\n",
        "pip install selenium chromedriver_autoinstaller\n"
      ]
    },
    {
      "cell_type": "code",
      "source": [
        "!pip uninstall chromedriver-autoinstaller -y"
      ],
      "metadata": {
        "colab": {
          "base_uri": "https://localhost:8080/"
        },
        "id": "Cat35u85F0xk",
        "outputId": "17ff298b-cce7-4cf2-95fe-4b9c05954751"
      },
      "execution_count": null,
      "outputs": [
        {
          "output_type": "stream",
          "name": "stdout",
          "text": [
            "Found existing installation: chromedriver-autoinstaller 0.6.3\n",
            "Uninstalling chromedriver-autoinstaller-0.6.3:\n",
            "  Successfully uninstalled chromedriver-autoinstaller-0.6.3\n"
          ]
        }
      ]
    },
    {
      "cell_type": "code",
      "source": [
        "!google-chrome --version"
      ],
      "metadata": {
        "colab": {
          "base_uri": "https://localhost:8080/"
        },
        "id": "DwuulCmZF3Vu",
        "outputId": "2bfe982b-752f-476b-8b68-da466c744a94"
      },
      "execution_count": null,
      "outputs": [
        {
          "output_type": "stream",
          "name": "stdout",
          "text": [
            "/bin/bash: line 1: google-chrome: command not found\n"
          ]
        }
      ]
    },
    {
      "cell_type": "code",
      "source": [
        "!pip install chromedriver-autoinstaller\n",
        "import chromedriver_autoinstaller\n",
        "chromedriver_autoinstaller.install()  # T"
      ],
      "metadata": {
        "colab": {
          "base_uri": "https://localhost:8080/",
          "height": 127
        },
        "id": "oD21O61GF5-A",
        "outputId": "f38b615d-f235-45e8-b65c-354bf4dd49e4"
      },
      "execution_count": null,
      "outputs": [
        {
          "output_type": "stream",
          "name": "stdout",
          "text": [
            "Collecting chromedriver-autoinstaller\n",
            "  Using cached chromedriver_autoinstaller-0.6.3-py3-none-any.whl (7.6 kB)\n",
            "Requirement already satisfied: packaging>=23.1 in /usr/local/lib/python3.10/dist-packages (from chromedriver-autoinstaller) (23.2)\n",
            "Installing collected packages: chromedriver-autoinstaller\n",
            "Successfully installed chromedriver-autoinstaller-0.6.3\n"
          ]
        },
        {
          "output_type": "execute_result",
          "data": {
            "text/plain": [
              "'/usr/local/lib/python3.10/dist-packages/chromedriver_autoinstaller/120/chromedriver'"
            ],
            "application/vnd.google.colaboratory.intrinsic+json": {
              "type": "string"
            }
          },
          "metadata": {},
          "execution_count": 8
        }
      ]
    },
    {
      "cell_type": "code",
      "source": [
        "from selenium import webdriver\n",
        "from selenium.webdriver.chrome.options import Options\n",
        "\n",
        "chrome_options = Options()\n",
        "chrome_options.add_argument('--headless')\n",
        "chrome_options.add_argument('--no-sandbox')\n",
        "chrome_options.add_argument('--disable-dev-shm-usage')\n",
        "\n",
        "bot = webdriver.Chrome(options=chrome_options)\n"
      ],
      "metadata": {
        "id": "s_p11hzDF_B7"
      },
      "execution_count": null,
      "outputs": []
    },
    {
      "cell_type": "code",
      "source": [
        "from bs4 import BeautifulSoup\n",
        "import time, datetime\n",
        "import pandas as pd\n",
        "# from selenium import webdriver\n",
        "# from selenium.webdriver.chrome.options import Options\n",
        "# from kora.selenium import wd as bot\n",
        "\n",
        "# options = Options()\n",
        "# options.add_argument(\"--headless\")\n",
        "# options.add_argument(\"--no-sandbox\")\n",
        "# bot = webdriver.Chrome(\"chromedriver\", options=options)"
      ],
      "metadata": {
        "id": "KOJwgbYBRed3"
      },
      "execution_count": null,
      "outputs": []
    },
    {
      "cell_type": "code",
      "source": [
        "# The url where the data will be collected from.\n",
        "url = \"https://www.youtube.com/results?search_query=standing+rock\"\n",
        "\n",
        "# Input the targeting url to the bot, and the bot will load data from the url.\n",
        "bot.get(url)\n",
        "\n",
        "# An array to store all the video urls. If a video has been crawled, it would not be stored to the data frame.\n",
        "video_urls = []\n",
        "# An array to store the retrieved video details.\n",
        "results = []\n",
        "\n",
        "\n",
        "# variable i indicates the number of times that scrolls down a web page. In practice, you might want to develop different\n",
        "# interaction approach to load and view the web pages.\n",
        "\n",
        "for i in range(5):\n",
        "\n",
        "    # Create a document object model (DOM) from the raw source of the crawled web page.\n",
        "    # Since you are processing a html page, 'html.parser' is chosen.\n",
        "    soup = BeautifulSoup(bot.page_source, 'html.parser')\n",
        "\n",
        "    # Capture all the video items using find_all or findAll method.\n",
        "    # To view the information of the html elements you want to collect, you need to inspect the raw source using Chrome Inspector.\n",
        "    # To test whether you find the right html elements, you can use the pycharm debugger to examine the returned data.\n",
        "    videos = soup.find_all('ytd-video-renderer', class_=\"style-scope ytd-item-section-renderer\")[-20:] # 20 indicates only process the newly-acquired 20 entries.\n",
        "\n",
        "    # iterate and process each video entry.\n",
        "    for video in videos:\n",
        "\n",
        "        # I prefer use the \"try-except\" statement to enable the program run without pausing due to unexpected errors.\n",
        "        try:\n",
        "            # video_url = video.find(\"a\", class_=\"yt-simple-endpoint inline-block style-scope ytd-thumbnail\").attrs[\"href\"]\n",
        "            # user_url = video.find(\"a\", class_=\"yt-simple-endpoint style-scope yt-formatted-string\").attrs[\"href\"]\n",
        "            # username = video.find(\"a\", class_=\"yt-simple-endpoint style-scope yt-formatted-string\").text\n",
        "            # title = video.find(\"yt-formatted-string\", class_=\"style-scope ytd-video-renderer\").text\n",
        "            # view_num = video.find_all(\"span\", class_=\"style-scope ytd-video-meta-block\")[0].text.replace(\" views\", \"\")\n",
        "            # created_at = video.find_all(\"span\", class_=\"style-scope ytd-video-meta-block\")[0].text.replace(\" ago\", \"\")\n",
        "            # shortdesc = video.find(\"yt-formatted-string\", id=\"description-text\").text\n",
        "            # collected_at = datetime.datetime.now()\n",
        "\n",
        "            video_url = video.find(\"a\", class_=\"yt-simple-endpoint style-scope ytd-video-renderer\").attrs[\"href\"]\n",
        "            user_url = video.find(\"a\", class_=\"yt-simple-endpoint style-scope yt-formatted-string\").attrs[\"href\"]\n",
        "            username = video.find(\"a\", class_=\"yt-simple-endpoint style-scope yt-formatted-string\").text\n",
        "            title = video.find(\"yt-formatted-string\", class_=\"style-scope ytd-video-renderer\").text\n",
        "            metadata_items = video.find_all(\"span\", class_=\"inline-metadata-item style-scope ytd-video-meta-block\")\n",
        "            view_num = metadata_items[0].text.replace(\" views\", \"\")\n",
        "            created_at = metadata_items[1].text.replace(\" ago\", \"\")\n",
        "            shortdesc = video.find(\"yt-formatted-string\", class_=\"metadata-snippet-text style-scope ytd-video-renderer\").text\n",
        "            collected_at = datetime.datetime.now()\n",
        "\n",
        "            # create a row in the dict format.\n",
        "            row = {'video_url': video_url,\n",
        "                    'user_url': user_url,\n",
        "                    'username': username,\n",
        "                    'title': title,\n",
        "                    'view_num': view_num,\n",
        "                    'created_at': created_at,\n",
        "                    'shortdesc': shortdesc,\n",
        "                    'collected_at': collected_at}\n",
        "\n",
        "            # if a video has been added, this video would not be inserted to the results array,\n",
        "            # otherwise, this video will be inserted.\n",
        "            if video_url in video_urls:\n",
        "                print(\"this video has already been added.\")\n",
        "            else:\n",
        "                print(row)\n",
        "                video_urls.append(video_url)\n",
        "                results.append(row)\n",
        "        except:\n",
        "            pass\n",
        "\n",
        "    # it is very important to enable the bot take some rest, and then resume to work.\n",
        "    time.sleep(5)\n",
        "\n",
        "    # Let the bot scrolls down to the bottom of the content element, most of the time the bot needs to scroll down to the bottom of the page.\n",
        "    # like this statement: bot.execute_script(\"window.scrollTo(0, document.body.scrollHeight);\")\n",
        "    bot.execute_script('window.scrollTo(0,  document.getElementById(\"content\").scrollHeight);')\n",
        "\n",
        "# terminate the bot object.\n",
        "bot.close()\n",
        "\n",
        "# Store the results as a pandas dataframe\n",
        "df = pd.DataFrame(results)\n",
        "\n",
        "# notify the completion of the crawling in the console.\n",
        "print(\"the crawling task is finished.\")"
      ],
      "metadata": {
        "id": "uj2ClnTbRGp7",
        "colab": {
          "base_uri": "https://localhost:8080/"
        },
        "outputId": "183101d0-195a-4ae3-fd27-7615fd51613d"
      },
      "execution_count": null,
      "outputs": [
        {
          "output_type": "stream",
          "name": "stdout",
          "text": [
            "{'video_url': '/watch?v=Onyk7guvHK8&pp=ygUNc3RhbmRpbmcgcm9jaw%3D%3D', 'user_url': '/channel/UC5aqukzSeAj9etVpQpct88A', 'username': 'Taboo', 'title': 'Stand Up / Stand N Rock #NoDAPL (Official Video)', 'view_num': '4.4M', 'created_at': '7 years', 'shortdesc': \"Hip Hop Caucus, creator of People's Climate Music, has partnered with Taboo, solo Hip Hop artist and member of the Grammy\\xa0...\", 'collected_at': datetime.datetime(2024, 1, 6, 4, 47, 18, 50422)}\n",
            "{'video_url': '/watch?v=WFo-kIMtvCo&pp=ygUNc3RhbmRpbmcgcm9jaw%3D%3D', 'user_url': '/@seanfeucht', 'username': 'Sean Feucht', 'title': 'Standing on the Rock -  Sean Feucht - Times Square', 'view_num': '19K', 'created_at': '1 year', 'shortdesc': 'Follow Sean: https://www.facebook.com/sean.feucht https://twitter.com/seanfeucht https://www.instagram.com/seanfeucht/ Sign up\\xa0...', 'collected_at': datetime.datetime(2024, 1, 6, 4, 47, 18, 54280)}\n",
            "{'video_url': '/watch?v=2uYiHiJTN6Y&pp=ygUNc3RhbmRpbmcgcm9jaw%3D%3D', 'user_url': '/channel/UCr-Od38IMpigVVgRYZ42FqA', 'username': 'I AM THEY', 'title': 'I AM THEY - My Feet Are on the Rock (Official Music Video)', 'view_num': '4.2M', 'created_at': '5 years', 'shortdesc': 'My Feet Are On The Rock\" now! iTunes: http://smarturl.it/TrialAndTriumph?IQid=VEVORockOfficalMusicVideo Amazon:\\xa0...', 'collected_at': datetime.datetime(2024, 1, 6, 4, 47, 18, 64733)}\n",
            "{'video_url': '/watch?v=Phre0bArD0M&pp=ygUNc3RhbmRpbmcgcm9jaw%3D%3D', 'user_url': '/@IndianCountryToday', 'username': 'Indian Country Today', 'title': 'A MESSAGE FROM NATIVE FILMMAKERS FIGHTING THE DAKOTA PIPELINE AT STANDING ROCK', 'view_num': '17K', 'created_at': '7 years', 'shortdesc': 'Film by Heather Rae, Cody Lucich and Ben Dupris Posted by Sundance Film Festival\\xa0...', 'collected_at': datetime.datetime(2024, 1, 6, 4, 47, 18, 75001)}\n",
            "{'video_url': '/watch?v=CAigAI-dZgQ&pp=ygUNc3RhbmRpbmcgcm9jaw%3D%3D', 'user_url': '/channel/UCmVqUKitxpa3e56tcRoU9Mg', 'username': 'Dee Snider', 'title': 'Dee Snider’s Standing Rock Music Video “So What” (UNCENSORED)', 'view_num': '55K', 'created_at': '7 years', 'shortdesc': 'This music video documents the Dakota Access Pipeline Protest at Standing Rock. While capturing the police brutality and human\\xa0...', 'collected_at': datetime.datetime(2024, 1, 6, 4, 47, 18, 77482)}\n",
            "{'video_url': '/watch?v=lhtkz8PBG7g&pp=ygUNc3RhbmRpbmcgcm9jaw%3D%3D', 'user_url': '/channel/UCSBBlaJJ-tk9zg_1VTh0ndw', 'username': 'Zee Ministries', 'title': 'ZEE - Standing On The Rock (Official Music Video)', 'view_num': '343K', 'created_at': '2 years', 'shortdesc': 'ZEE - Standing On The Rock (Official Music Video) Subscribe to this channel:\\xa0...', 'collected_at': datetime.datetime(2024, 1, 6, 4, 47, 18, 79941)}\n",
            "{'video_url': '/watch?v=nlccshLU-Og&pp=ygUNc3RhbmRpbmcgcm9jaw%3D%3D', 'user_url': '/channel/UCL7aOpP89MGVXrPu7Pzhhpw', 'username': 'Gaither Music TV', 'title': \"I'm Standing On the Solid Rock (Live)\", 'view_num': '139K', 'created_at': '11 years', 'shortdesc': \"Official Video for 'I'm Standing On the Solid Rock (Live)', available now! Buy the full length DVD/CD 'Sunday Meetin' Time' Here:\\xa0...\", 'collected_at': datetime.datetime(2024, 1, 6, 4, 47, 18, 86135)}\n",
            "this video has already been added.\n",
            "this video has already been added.\n",
            "this video has already been added.\n",
            "this video has already been added.\n",
            "this video has already been added.\n",
            "this video has already been added.\n",
            "this video has already been added.\n",
            "{'video_url': '/watch?v=BqXlLudFQa0&pp=ygUNc3RhbmRpbmcgcm9jaw%3D%3D', 'user_url': '/@ABCNews', 'username': 'ABC News', 'title': 'The end of the Standing Rock standoff between authorities, protestors', 'view_num': '96K', 'created_at': '6 years', 'shortdesc': \"Protests had been going for months in an attempt to stop the Dakota Access Pipeline from being built next the Sioux tribe's sacred\\xa0...\", 'collected_at': datetime.datetime(2024, 1, 6, 4, 47, 26, 154925)}\n",
            "{'video_url': '/watch?v=1Rz_TkpysKk&pp=ygUNc3RhbmRpbmcgcm9jaw%3D%3D', 'user_url': '/@ABCNews', 'username': 'ABC News', 'title': 'The Seventh Generation: Youth at the Heart of the Standing Rock Protests | ABC News', 'view_num': '108K', 'created_at': '6 years', 'shortdesc': \"For months, the International Indigenous Youth Council has helped steer the Standing Rock Sioux Tribe's opposition to the\\xa0...\", 'collected_at': datetime.datetime(2024, 1, 6, 4, 47, 26, 157779)}\n",
            "{'video_url': '/watch?v=Czd-VP6dlxA&pp=ygUNc3RhbmRpbmcgcm9jaw%3D%3D', 'user_url': '/@bullfrogfilms', 'username': 'Bullfrog Films', 'title': 'Bullfrog Films presents...AWAKE, A DREAM FROM STANDING ROCK', 'view_num': '28K', 'created_at': '6 years', 'shortdesc': 'A film by Josh Fox, James Spione, and Myron Dewey Available for educational use from Bullfrog Films:\\xa0...', 'collected_at': datetime.datetime(2024, 1, 6, 4, 47, 26, 164206)}\n",
            "{'video_url': '/watch?v=J1yD2J8vHAk&pp=ygUNc3RhbmRpbmcgcm9jaw%3D%3D', 'user_url': '/@VICE', 'username': 'VICE', 'title': 'What Really Happened at Standing Rock | I Was There', 'view_num': '1M', 'created_at': '3 years', 'shortdesc': 'In 2016, indigenous water protectors and their allies gathered at Standing Rock to oppose the construction of the Dakota Access\\xa0...', 'collected_at': datetime.datetime(2024, 1, 6, 4, 47, 26, 172122)}\n",
            "{'video_url': '/watch?v=okfEv-PHvUU&pp=ygUNc3RhbmRpbmcgcm9jaw%3D%3D', 'user_url': '/@seanfeucht', 'username': 'Sean Feucht', 'title': 'Standing On The Rock - Let Us Worship Live from Philly - Sean Feucht - Meredith Mauldin', 'view_num': '10K', 'created_at': '1 year', 'shortdesc': \"Sean Feucht & Meredith Mauldin sing 'Standing on the Rock' at Let Us Worship Live from Philly! Follow Sean:\\xa0...\", 'collected_at': datetime.datetime(2024, 1, 6, 4, 47, 26, 181334)}\n",
            "{'video_url': '/watch?v=4PLi6s9Wwd4&pp=ygUNc3RhbmRpbmcgcm9jaw%3D%3D', 'user_url': '/channel/UCj-XmMN_dFcGaB2dWtbbdng', 'username': 'Mike BoneMusic', 'title': 'NoDAPL StandingRock Camp Site with Mike Bone', 'view_num': '31K', 'created_at': '7 years', 'shortdesc': \"Native American Rappers MikeBoneMusic (as seen on America's Got Talent) travel to Fort Yates, North Dakota to offer their\\xa0...\", 'collected_at': datetime.datetime(2024, 1, 6, 4, 47, 26, 184306)}\n",
            "{'video_url': '/watch?v=QFjnudxcfv0&pp=ygUNc3RhbmRpbmcgcm9jaw%3D%3D', 'user_url': '/@Vogue', 'username': 'Vogue', 'title': 'Stories From Standing Rock | Vogue', 'view_num': '73K', 'created_at': '7 years', 'shortdesc': 'In North Dakota, thousands of Native Americans and allies have joined the Standing Rock Sioux Tribe in a fight to stop the Dakota\\xa0...', 'collected_at': datetime.datetime(2024, 1, 6, 4, 47, 26, 193385)}\n",
            "{'video_url': '/watch?v=4FDuqYld8C8&pp=ygUNc3RhbmRpbmcgcm9jaw%3D%3D', 'user_url': '/@dividedfilms2413', 'username': 'Divided Films', 'title': 'Mni Wiconi: The Stand at Standing Rock', 'view_num': '313K', 'created_at': '7 years', 'shortdesc': 'Mni Wiconi features water protectors from the Standing Rock Sioux Tribe and allies trying to stop the 1100-mile Dakota Access\\xa0...', 'collected_at': datetime.datetime(2024, 1, 6, 4, 47, 26, 195938)}\n",
            "{'video_url': '/watch?v=Vr2zE69jIcQ&pp=ygUNc3RhbmRpbmcgcm9jaw%3D%3D', 'user_url': '/@CBCTheNational', 'username': 'CBC News: The National', 'title': 'Standing Rock and Sioux Nation', 'view_num': '9K', 'created_at': '7 years', 'shortdesc': 'Voice Your Opinion & Connect With Us Online: The National Updates on Facebook: https://www.facebook.com/thenational The\\xa0...', 'collected_at': datetime.datetime(2024, 1, 6, 4, 47, 26, 198422)}\n",
            "{'video_url': '/watch?v=EyfyqX4raCk&pp=ygUNc3RhbmRpbmcgcm9jaw%3D%3D', 'user_url': '/@TEDx', 'username': 'TEDx Talks', 'title': 'Standing Rock: The Power of Telling Our Own Story | Josue Rivas | TEDxRapidCity', 'view_num': '8.1K', 'created_at': '6 years', 'shortdesc': 'L.A.-based photographer and filmmaker Josue Rivas gained national attention for his work covering Standing Rock. In this moving\\xa0...', 'collected_at': datetime.datetime(2024, 1, 6, 4, 47, 26, 209074)}\n",
            "{'video_url': '/watch?v=E6oVN_mWLpo&pp=ygUNc3RhbmRpbmcgcm9jaw%3D%3D', 'user_url': '/@scandinaviahouse', 'username': 'Scandinavia House', 'title': 'End of the Line — The Women of Standing Rock Trailer', 'view_num': '1.1K', 'created_at': '9 months', 'shortdesc': 'On April 14 at Scandinavia House, see acclaimed documentary filmmaker Shannon Kring\\'s \"The End of the Line: The Women of\\xa0...', 'collected_at': datetime.datetime(2024, 1, 6, 4, 47, 26, 211519)}\n",
            "this video has already been added.\n",
            "this video has already been added.\n",
            "{'video_url': '/watch?v=LOLu3N_TeVM&pp=ygUNc3RhbmRpbmcgcm9jaw%3D%3D', 'user_url': '/@CBCNews', 'username': 'CBC News', 'title': 'Veterans standing up for Standing Rock', 'view_num': '31K', 'created_at': '7 years', 'shortdesc': 'Connect with CBC News Online: For breaking news, video, audio and in-depth coverage: http://bit.ly/1Z0m6iX Find CBC News on\\xa0...', 'collected_at': datetime.datetime(2024, 1, 6, 4, 47, 35, 254503)}\n",
            "{'video_url': '/watch?v=_rsAyaSdkJc&pp=ygUNc3RhbmRpbmcgcm9jaw%3D%3D', 'user_url': '/@NBCNews', 'username': 'NBC News', 'title': 'Veterans Stand Ground With Pipeline Protesters At Standing Rock | NBC News', 'view_num': '31K', 'created_at': '7 years', 'shortdesc': 'NBC News is a leading source of global news and information. Here you will find clips from NBC Nightly News, Meet The Press,\\xa0...', 'collected_at': datetime.datetime(2024, 1, 6, 4, 47, 35, 257615)}\n",
            "{'video_url': '/watch?v=94GcJuxJPgM&pp=ygUNc3RhbmRpbmcgcm9jaw%3D%3D', 'user_url': '/@VICE-TV', 'username': 'VICE TV', 'title': 'Standing Strong at Standing Rock: SLIDESHOW with Josué Rivas', 'view_num': '9K', 'created_at': '5 years', 'shortdesc': 'Josué Rivas talks Standing Strong, his series of powerful photos from Standing Rock in 2016, and how he hopes his images can\\xa0...', 'collected_at': datetime.datetime(2024, 1, 6, 4, 47, 35, 266894)}\n",
            "{'video_url': '/watch?v=wD3-6JIUF7M&pp=ygUNc3RhbmRpbmcgcm9jaw%3D%3D', 'user_url': '/@TED', 'username': 'TED', 'title': 'The Standing Rock resistance and our fight for indigenous rights | Tara Houska', 'view_num': '195K', 'created_at': '5 years', 'shortdesc': \"Still invisible and often an afterthought, indigenous peoples are uniting to protect the world's water, lands and history -- while\\xa0...\", 'collected_at': datetime.datetime(2024, 1, 6, 4, 47, 35, 271055)}\n",
            "{'video_url': '/watch?v=f8TEK5l3k-4&pp=ygUNc3RhbmRpbmcgcm9jaw%3D%3D', 'user_url': '/@DemocracyNow', 'username': 'Democracy Now!', 'title': 'Standing Rock Sioux Chairman: Dakota Access Pipeline \"Is Threatening the Lives of My Tribe\"', 'view_num': '55K', 'created_at': '7 years', 'shortdesc': 'http://democracynow.org - In North Dakota, indigenous activists are continuing to protest the proposed $3.8 billion Dakota Access\\xa0...', 'collected_at': datetime.datetime(2024, 1, 6, 4, 47, 35, 281315)}\n",
            "{'video_url': '/watch?v=RX-3jdXa46U&pp=ygUNc3RhbmRpbmcgcm9jaw%3D%3D', 'user_url': '/@aljazeeraenglish', 'username': 'Al Jazeera English', 'title': 'Standing Rock and the Battle Beyond | Fault Lines', 'view_num': '46K', 'created_at': '7 years', 'shortdesc': 'For months, Native Americans have been protesting against the Dakota Access oil pipeline, a multibillion-dollar construction\\xa0...', 'collected_at': datetime.datetime(2024, 1, 6, 4, 47, 35, 289719)}\n",
            "{'video_url': '/watch?v=DwRArsUhCmQ&pp=ygUNc3RhbmRpbmcgcm9jaw%3D%3D', 'user_url': '/@CBCNews', 'username': 'CBC News', 'title': 'Standing Rock Sioux Tribe urges calm as National Guard called in before pipeline ruling', 'view_num': '20K', 'created_at': '7 years', 'shortdesc': 'Connect with CBC News Online: For breaking news, video, audio and in-depth coverage: http://bit.ly/1Z0m6iX Find CBC News on\\xa0...', 'collected_at': datetime.datetime(2024, 1, 6, 4, 47, 35, 299457)}\n",
            "{'video_url': '/watch?v=dl_WDmDiOEU&pp=ygUNc3RhbmRpbmcgcm9jaw%3D%3D', 'user_url': '/@kelolandnews', 'username': 'KELOLAND News', 'title': 'Florida man sentenced in Standing Rock Sioux Tribe scheme', 'view_num': '304', 'created_at': '1 year', 'shortdesc': 'Stay informed about South Dakota news, weather, and sports Follow KELOLAND News on our website and social channels:\\xa0...', 'collected_at': datetime.datetime(2024, 1, 6, 4, 47, 35, 302512)}\n",
            "{'video_url': '/watch?v=qJZ1-LAFOTo&pp=ygUNc3RhbmRpbmcgcm9jaw%3D%3D', 'user_url': '/@Vox', 'username': 'Vox', 'title': 'The fight over the Dakota Access Pipeline, explained', 'view_num': '445K', 'created_at': '7 years', 'shortdesc': 'How Native Americans and environmentalists stopped a $3.8 billion oil pipeline. Subscribe to our channel! http://goo.gl/0bsAjO\\xa0...', 'collected_at': datetime.datetime(2024, 1, 6, 4, 47, 35, 305586)}\n",
            "{'video_url': '/watch?v=9-EQ7BuhQq4&pp=ygUNc3RhbmRpbmcgcm9jaw%3D%3D', 'user_url': '/@PBSNewsHour', 'username': 'PBS NewsHour', 'title': 'Tribes across North America converge at Standing Rock, hoping to be heard', 'view_num': '117K', 'created_at': '7 years', 'shortdesc': 'Protestors of the North Dakota pipeline celebrated after the Department of Justice temporarily halted the project in federal\\xa0...', 'collected_at': datetime.datetime(2024, 1, 6, 4, 47, 35, 314842)}\n",
            "{'video_url': '/watch?v=dyzzEnRR8f8&pp=ygUNc3RhbmRpbmcgcm9jaw%3D%3D', 'user_url': '/@yolandapushetonequa7872', 'username': 'Yolanda Pushetonequa', 'title': 'Standing Rock by Trevor Hall with footage #NoDAPL #StandingRock', 'view_num': '365K', 'created_at': '7 years', 'shortdesc': 'New video with footage. Pulled from Buzzfeed. Original youtube video without footage was originally uploaded 8-31-16 and its\\xa0...', 'collected_at': datetime.datetime(2024, 1, 6, 4, 47, 35, 322791)}\n",
            "{'video_url': '/watch?v=91-Ikju4EBA&pp=ygUNc3RhbmRpbmcgcm9jaw%3D%3D', 'user_url': '/@FlocabularyYT', 'username': 'Flocabulary', 'title': 'Flocabulary Visits Standing Rock Schools', 'view_num': '16K', 'created_at': '6 years', 'shortdesc': 'Flocabulary partnered with Turnaround Arts to bring rap and hip-hop to the classrooms of Standing Rock, North Dakota. Over the\\xa0...', 'collected_at': datetime.datetime(2024, 1, 6, 4, 47, 35, 325792)}\n",
            "{'video_url': '/watch?v=jG662XdJS_k&pp=ygUNc3RhbmRpbmcgcm9jaw%3D%3D', 'user_url': '/@KXNewsND', 'username': 'KX News', 'title': 'Kyrie Irving receives tribal name from Sioux Tribe on Standing Rock Reservation', 'view_num': '10K', 'created_at': '5 years', 'shortdesc': 'Kyrie Irving receives tribal name from Sioux Tribe on Standing Rock Reservation.', 'collected_at': datetime.datetime(2024, 1, 6, 4, 47, 35, 333806)}\n",
            "{'video_url': '/watch?v=kuZcx2zEo4k&pp=ygUNc3RhbmRpbmcgcm9jaw%3D%3D', 'user_url': '/@DemocracyNow', 'username': 'Democracy Now!', 'title': 'Dakota Access Pipeline Company Attacks Native American Protesters with Dogs & Pepper Spray', 'view_num': '1.4M', 'created_at': '7 years', 'shortdesc': 'The project has faced months of resistance from the Standing Rock Sioux tribe and members of nearly 100 more tribes from\\xa0...', 'collected_at': datetime.datetime(2024, 1, 6, 4, 47, 35, 337004)}\n",
            "{'video_url': '/watch?v=Yb9HHtye1Tk&pp=ygUNc3RhbmRpbmcgcm9jaw%3D%3D', 'user_url': '/@reveal', 'username': 'Reveal', 'title': 'One Year at Standing Rock', 'view_num': '44K', 'created_at': '6 years', 'shortdesc': 'Jasilyn Charger was one of the first people to set up camp at the Standing Rock Sioux Reservation in April 2016. Along with youth\\xa0...', 'collected_at': datetime.datetime(2024, 1, 6, 4, 47, 35, 348300)}\n",
            "{'video_url': '/watch?v=aO1mkv5pgC8&pp=ygUNc3RhbmRpbmcgcm9jaw%3D%3D', 'user_url': '/@givepowerfoundation', 'username': 'GivePower Foundation', 'title': 'GivePower: Power for Standing Rock', 'view_num': '860', 'created_at': '4 years', 'shortdesc': 'Project coming: July 2019.', 'collected_at': datetime.datetime(2024, 1, 6, 4, 47, 35, 351081)}\n",
            "{'video_url': '/watch?v=bLOB1Um0tas&pp=ygUNc3RhbmRpbmcgcm9jaw%3D%3D', 'user_url': '/@DaywindRecords', 'username': 'Daywind Records', 'title': \"Tribute Quartet - I'm Standing On The Solid Rock (Official Lyric Video)\", 'view_num': '55K', 'created_at': '6 years', 'shortdesc': \"Official lyric video for 'I'm Standing On The Solid Rock' by Tribute Quartet. You can find this song and other quartet classics on the\\xa0...\", 'collected_at': datetime.datetime(2024, 1, 6, 4, 47, 42, 716710)}\n",
            "{'video_url': '/watch?v=oCVg3Av6uRQ&pp=ygUNc3RhbmRpbmcgcm9jaw%3D%3D', 'user_url': '/@gisborneherald', 'username': 'gisborneherald', 'title': '#Live Haka supports Standing Rock', 'view_num': '169K', 'created_at': '7 years', 'shortdesc': 'TAIRAWHITI Maori have gone global with two rousing haka in their support for those protesting a multibillion-dollar oil pipeline at\\xa0...', 'collected_at': datetime.datetime(2024, 1, 6, 4, 47, 42, 719668)}\n",
            "{'video_url': '/watch?v=KGZnnvzcFxI&pp=ygUNc3RhbmRpbmcgcm9jaw%3D%3D', 'user_url': '/@TheMajorityReport', 'username': 'The Majority Report w/ Sam Seder', 'title': 'Standing Rock: Activist & Vet Wes Clark Jr. Apologizes To Lakota & Sioux Leaders In Formal Ceremony', 'view_num': '8.1K', 'created_at': '7 years', 'shortdesc': 'In this Majority Report clip, we watch Wes Clark Jr.—climate activist, Army veteran, TYT commentator, and son of retired Gen.', 'collected_at': datetime.datetime(2024, 1, 6, 4, 47, 42, 721417)}\n",
            "{'video_url': '/watch?v=s6VuftV5QuQ&pp=ygUNc3RhbmRpbmcgcm9jaw%3D%3D', 'user_url': '/@HollywoodCreativeAlliance', 'username': 'Hollywood Creative Alliance', 'title': 'End of the Line: The Women of Standing Rock Speech  | 2022 HCA TV Awards', 'view_num': '1.1K', 'created_at': '1 year', 'shortdesc': 'endlinefilm takes home the award for Best Broadcast Network or Cable Documentary, at the 2nd Annual Hollywood Critics\\xa0...', 'collected_at': datetime.datetime(2024, 1, 6, 4, 47, 42, 722791)}\n",
            "{'video_url': '/watch?v=5MKWPWD3C-0&pp=ygUNc3RhbmRpbmcgcm9jaw%3D%3D', 'user_url': '/@IndianCountryToday', 'username': 'Indian Country Today', 'title': 'Dear Veterans: Welcome to Standing Rock', 'view_num': '59K', 'created_at': '7 years', 'shortdesc': 'Dear Veterans: Welcome to Standing Rock by Longhouse Media.', 'collected_at': datetime.datetime(2024, 1, 6, 4, 47, 42, 724084)}\n",
            "{'video_url': '/watch?v=AeUIyI83b7g&pp=ygUNc3RhbmRpbmcgcm9jaw%3D%3D', 'user_url': '/@theLFShow', 'username': 'The Laura Flanders Show', 'title': 'RISE With Standing Rock', 'view_num': '35K', 'created_at': '7 years', 'shortdesc': \"There's a revolution happening in Standing Rock, at the Očhéthi Šakówiŋ camp, and across the country. Over 200 indigenous\\xa0...\", 'collected_at': datetime.datetime(2024, 1, 6, 4, 47, 42, 725335)}\n",
            "{'video_url': '/watch?v=LggC3EMwgO4&pp=ygUNc3RhbmRpbmcgcm9jaw%3D%3D', 'user_url': '/@Grist', 'username': 'Grist', 'title': 'These veterans explain why they went to Standing Rock', 'view_num': '11K', 'created_at': '7 years', 'shortdesc': \"Chris Vickers, a former army medic, first came across footage of the standoff at Standing Rock on Facebook. He'd been out of the\\xa0...\", 'collected_at': datetime.datetime(2024, 1, 6, 4, 47, 42, 727183)}\n",
            "{'video_url': '/watch?v=Iwroxq7pRSo&pp=ygUNc3RhbmRpbmcgcm9jaw%3D%3D', 'user_url': '/channel/UC7s3H9tEelF5-vooCeJj3eQ', 'username': 'cityofthesun', 'title': 'City of the Sun –\\xa0Standing Rock (Official Audio)', 'view_num': '50K', 'created_at': '4 years', 'shortdesc': '© 2017 City of the Sun, LLC City of the Sun is John Pita, Avi Snow, & Zach Para. Connect: Instagram:\\xa0...', 'collected_at': datetime.datetime(2024, 1, 6, 4, 47, 42, 728543)}\n",
            "{'video_url': '/watch?v=KskC6Qd1DOk&pp=ygUNc3RhbmRpbmcgcm9jaw%3D%3D', 'user_url': '/@MrCatfysh', 'username': 'Mr. Catfysh', 'title': 'Trevor Hall - Standing Rock', 'view_num': '270K', 'created_at': '7 years', 'shortdesc': \"A video and picture compilation set to Trevor Hall's song Standing Rock. #NODAPL.\", 'collected_at': datetime.datetime(2024, 1, 6, 4, 47, 42, 729871)}\n",
            "{'video_url': '/watch?v=swv6hhsgxP0&pp=ygUNc3RhbmRpbmcgcm9jaw%3D%3D', 'user_url': '/@globalnews', 'username': 'Global News', 'title': 'New Zealand man performs Haka for Standing Rock Protesters in North Dakota', 'view_num': '25K', 'created_at': '7 years', 'shortdesc': 'A New Zealand man named Kereama Te Ua showed his support for the indigenous people of North Dakota when he performed a\\xa0...', 'collected_at': datetime.datetime(2024, 1, 6, 4, 47, 42, 731172)}\n",
            "{'video_url': '/watch?v=zeCnG1HNFJk&pp=ygUNc3RhbmRpbmcgcm9jaw%3D%3D', 'user_url': '/@KXNewsND', 'username': 'KX News', 'title': \"After the Whistle: Mic'd Up with Standing Rock's Hans Bradley\", 'view_num': '1.9K', 'created_at': '11 months', 'shortdesc': \"After the Whistle: Mic'd Up with Standing Rock's Hans Bradley Stay informed about Western North Dakota news, weather and\\xa0...\", 'collected_at': datetime.datetime(2024, 1, 6, 4, 47, 42, 732608)}\n",
            "{'video_url': '/watch?v=txnG-gcLv6s&pp=ygUNc3RhbmRpbmcgcm9jaw%3D%3D', 'user_url': '/@GoodWolfSessions', 'username': 'Good Wolf Sessions', 'title': 'Trevor Hall \"Standing Rock\" Boston, MA 11.17.16', 'view_num': '30K', 'created_at': '7 years', 'shortdesc': 'Trevor Hall encores with a new song dedicated to the water protectors fighting the black snake up at Standing Rock. Live at The\\xa0...', 'collected_at': datetime.datetime(2024, 1, 6, 4, 47, 42, 733860)}\n",
            "{'video_url': '/watch?v=1FwOYI2kay4&pp=ygUNc3RhbmRpbmcgcm9jaw%3D%3D', 'user_url': '/@espn', 'username': 'ESPN', 'title': '[FULL] Kyrie Irving speech at Standing Rock Sioux naming ceremony | ESPN', 'view_num': '64K', 'created_at': '5 years', 'shortdesc': 'Boston Celtics guard and NBA All-Star Kyrie Irving gives an emotional speech at his Standing Rock Sioux naming ceremony on\\xa0...', 'collected_at': datetime.datetime(2024, 1, 6, 4, 47, 42, 735546)}\n",
            "{'video_url': '/watch?v=vG4m0SjbJF0&pp=ygUNc3RhbmRpbmcgcm9jaw%3D%3D', 'user_url': '/@Hazelymusic', 'username': 'Hazely', 'title': 'Still inlove with you (cover) chontay standingrock', 'view_num': '2.9K', 'created_at': '4 years', 'shortdesc': 'This song does not belong to me but i hope you guys enjoy!', 'collected_at': datetime.datetime(2024, 1, 6, 4, 47, 42, 737871)}\n",
            "{'video_url': '/watch?v=MXE-Nhlhll4&pp=ygUNc3RhbmRpbmcgcm9jaw%3D%3D', 'user_url': '/@JennyMusic', 'username': 'JennyMusic', 'title': \"EPIC ROCK | ''Last One Standing'' by WAR*HALL\", 'view_num': '6.2M', 'created_at': '4 years', 'shortdesc': 'WAR*HALL Name: Last One Standing Album: Last One Standing Written By Tyrone Wells/Tim Myers Performed By WAR*HALL\\xa0...', 'collected_at': datetime.datetime(2024, 1, 6, 4, 47, 42, 739211)}\n",
            "{'video_url': '/watch?v=6msNeEG1Q50&pp=ygUNc3RhbmRpbmcgcm9jaw%3D%3D', 'user_url': '/@TheVeganZombie', 'username': 'The Vegan Zombie', 'title': 'Inside Standing Rock - What is Dakota Access Pipeline?', 'view_num': '27K', 'created_at': '7 years', 'shortdesc': 'FOLLOW OUR ADVENTURES: Subscribe to The Vegan Zombie http://youtube.com/zombiegate 2nd Channel\\xa0...', 'collected_at': datetime.datetime(2024, 1, 6, 4, 47, 42, 740951)}\n",
            "{'video_url': '/watch?v=_7UkWjPjLVA&pp=ygUNc3RhbmRpbmcgcm9jaw%3D%3D', 'user_url': '/@France24_en', 'username': 'FRANCE 24 English', 'title': 'US - After months of struggle, celebrations erupt among Standing Rock protesters', 'view_num': '1.9K', 'created_at': '7 years', 'shortdesc': 'A celebration erupted at the main protest camp in Cannon Ball, North Dakota, where the Standing Rock Sioux tribe and others\\xa0...', 'collected_at': datetime.datetime(2024, 1, 6, 4, 47, 42, 743408)}\n",
            "{'video_url': '/watch?v=TVN8cCMlxOE&pp=ygUNc3RhbmRpbmcgcm9jaw%3D%3D', 'user_url': '/@NBCNews', 'username': 'NBC News', 'title': 'Standing Rock Sioux Tribe Takes Pipeline Fight To U.N. | NBC News', 'view_num': '4.9K', 'created_at': '7 years', 'shortdesc': 'NBC News is a leading source of global news and information. Here you will find clips from NBC Nightly News, Meet The Press,\\xa0...', 'collected_at': datetime.datetime(2024, 1, 6, 4, 47, 53, 839955)}\n",
            "{'video_url': '/watch?v=yoUKCKl3Itg&pp=ygUNc3RhbmRpbmcgcm9jaw%3D%3D', 'user_url': '/@TheYoungTurks', 'username': 'The Young Turks', 'title': 'Veterans Apologize To Sioux Tribe At Standing Rock Forgiveness Ceremony', 'view_num': '170K', 'created_at': '7 years', 'shortdesc': '\"Wes Clark Jr., the son of retired U.S. Army general and former supreme commander at NATO Wesley Clark Sr., was part of a\\xa0...', 'collected_at': datetime.datetime(2024, 1, 6, 4, 47, 53, 843716)}\n",
            "{'video_url': '/watch?v=X2tsaiUEOCo&pp=ygUNc3RhbmRpbmcgcm9jaw%3D%3D', 'user_url': '/@herecalico', 'username': 'herecalico', 'title': 'Florida Boys,  2003 , Standing on the Solid Rock.', 'view_num': '142K', 'created_at': '11 years', 'shortdesc': 'Live from the NQC 2003. Josh Garner on lead, Allan Cox on tenor, Glen Allred on baritone, Gene McDonald singing bass, Darrell\\xa0...', 'collected_at': datetime.datetime(2024, 1, 6, 4, 47, 53, 846677)}\n",
            "{'video_url': '/watch?v=agdcwz7yCFM&pp=ygUNc3RhbmRpbmcgcm9jaw%3D%3D', 'user_url': '/@espn', 'username': 'ESPN', 'title': 'Reacting to Kyrie Irving officially joining Standing Rock Sioux | The Jump | ESPN', 'view_num': '233K', 'created_at': '5 years', 'shortdesc': 'Boston Celtics guard and NBA All-Star Kyrie Irving was given a Standing Rock Sioux naming ceremony on Aug. 23, 2018.', 'collected_at': datetime.datetime(2024, 1, 6, 4, 47, 53, 849866)}\n",
            "{'video_url': '/watch?v=rtBVJZ1Xxcc&pp=ygUNc3RhbmRpbmcgcm9jaw%3D%3D', 'user_url': '/@resiliencystories', 'username': 'resiliencystories', 'title': 'Standing Rock is Standing Strong', 'view_num': '6K', 'created_at': '12 years', 'shortdesc': 'produced by the students of Standing Rock School, Standing Rock North Dakota 2011.', 'collected_at': datetime.datetime(2024, 1, 6, 4, 47, 53, 852842)}\n",
            "{'video_url': '/watch?v=OYiega7qVIE&pp=ygUNc3RhbmRpbmcgcm9jaw%3D%3D', 'user_url': '/channel/UCRmxz4fw_LzwQF19LKXgRVg', 'username': 'Rising Appalachia', 'title': 'Rising Appalachia - Wider Circles (Live from Standing Rock)', 'view_num': '64K', 'created_at': '5 years', 'shortdesc': 'Wider Circles live AT Standing Rock November 2016. Tiny Tent concert series with Indigenous Rising Media.', 'collected_at': datetime.datetime(2024, 1, 6, 4, 47, 53, 857742)}\n",
            "{'video_url': '/watch?v=yb7e-bDEEYY&pp=ygUNc3RhbmRpbmcgcm9jaw%3D%3D', 'user_url': '/@SmithsonianNMAI', 'username': 'SmithsonianNMAI', 'title': 'Standing Rock Dancers', 'view_num': '13K', 'created_at': '11 years', 'shortdesc': 'Standing Rock Indian Reservation straddles the border between North and South Dakota. Their youth program reaches over 500\\xa0...', 'collected_at': datetime.datetime(2024, 1, 6, 4, 47, 53, 860596)}\n",
            "{'video_url': '/watch?v=P4HbQbQWevY&pp=ygUNc3RhbmRpbmcgcm9jaw%3D%3D', 'user_url': '/@SeekerVR', 'username': 'Seeker VR', 'title': 'The Harsh Reality Of Standing Rock', 'view_num': '19K', 'created_at': '7 years', 'shortdesc': 'The Army Corps of Engineers decided to halt construction of the Dakota Access Pipeline—a tremendous victory for the people of\\xa0...', 'collected_at': datetime.datetime(2024, 1, 6, 4, 47, 53, 864768)}\n",
            "{'video_url': '/watch?v=ycupu6z4gEE&pp=ygUNc3RhbmRpbmcgcm9jaw%3D%3D', 'user_url': '/@aljazeeraenglish', 'username': 'Al Jazeera English', 'title': 'The Stream - Pipeline standoff at Standing Rock', 'view_num': '83K', 'created_at': '7 years', 'shortdesc': 'On The Stream: Native Americans protest a massive oil pipeline in the US state of North Dakota.', 'collected_at': datetime.datetime(2024, 1, 6, 4, 47, 53, 867766)}\n",
            "{'video_url': '/watch?v=rDzFZ4BTx9U&pp=ygUNc3RhbmRpbmcgcm9jaw%3D%3D', 'user_url': '/@ndgnf', 'username': 'North Dakota Game and Fish Department', 'title': 'Standing Rock Elk - NDGNF', 'view_num': '4K', 'created_at': '7 years', 'shortdesc': 'The Standing Rock Sioux Tribe, UND and the North Dakota Game and Fish Department are partnering in a study of the Sioux\\xa0...', 'collected_at': datetime.datetime(2024, 1, 6, 4, 47, 53, 870830)}\n",
            "{'video_url': '/watch?v=PP-NBTnrOhM&pp=ygUNc3RhbmRpbmcgcm9jaw%3D%3D', 'user_url': '/@BBCNews', 'username': 'BBC News', 'title': 'Standing Rock protest: Sioux tribe in North Dakota hail it an \"historic decision\".- BBC News', 'view_num': '17K', 'created_at': '7 years', 'shortdesc': 'The US Army has decided not to allow a controversial oil pipeline to cross under a lake it controls in North Dakota. The Standing\\xa0...', 'collected_at': datetime.datetime(2024, 1, 6, 4, 47, 53, 874605)}\n",
            "{'video_url': '/watch?v=PwsCuG1kSRk&pp=ygUNc3RhbmRpbmcgcm9jaw%3D%3D', 'user_url': '/@msnbc', 'username': 'MSNBC', 'title': 'Rewrite: The Protests At Standing Rock | The Last Word | MSNBC', 'view_num': '140K', 'created_at': '7 years', 'shortdesc': 'About: MSNBC is the premier destination for in-depth analysis of daily headlines, insightful political commentary and informed\\xa0...', 'collected_at': datetime.datetime(2024, 1, 6, 4, 47, 53, 877664)}\n",
            "{'video_url': '/watch?v=gFzHc51_Pts&pp=ygUNc3RhbmRpbmcgcm9jaw%3D%3D', 'user_url': '/channel/UCp_o6FI5WZ6dOGuOvigHmpQ', 'username': 'Jarina De Marco', 'title': 'Jarina De Marco - Release The Hounds (Stand with Standing Rock)', 'view_num': '79K', 'created_at': '7 years', 'shortdesc': 'Credits Directed by Mikki Willis Produced by Cameron Bartolini Video produced by Jarina De Marco and Esthero Edited by\\xa0...', 'collected_at': datetime.datetime(2024, 1, 6, 4, 47, 53, 880627)}\n",
            "{'video_url': '/watch?v=NExGlhYxreg&pp=ygUNc3RhbmRpbmcgcm9jaw%3D%3D', 'user_url': '/@NBCNews', 'username': 'NBC News', 'title': 'More Native American Tribes Join Standing Rock Sioux In Pipeline Protest | NBC News', 'view_num': '10K', 'created_at': '7 years', 'shortdesc': 'NBC News is a leading source of global news and information. Here you will find clips from NBC Nightly News, Meet The Press,\\xa0...', 'collected_at': datetime.datetime(2024, 1, 6, 4, 47, 53, 883637)}\n",
            "{'video_url': '/watch?v=NvSFUZAGeWs&pp=ygUNc3RhbmRpbmcgcm9jaw%3D%3D', 'user_url': '/@DenshoProject', 'username': 'Densho', 'title': 'Solidarity with activists at Standing Rock - May Watanabe', 'view_num': '521', 'created_at': '9 months', 'shortdesc': 'May Watanabe — who turns 101 this year! — was born in Chico, California and incarcerated with her family at Tule Lake during\\xa0...', 'collected_at': datetime.datetime(2024, 1, 6, 4, 47, 53, 886460)}\n",
            "{'video_url': '/watch?v=TDY_KN66dno&pp=ygUNc3RhbmRpbmcgcm9jaw%3D%3D', 'user_url': '/@insideenergy6643', 'username': 'Inside Energy', 'title': 'Trailer: Beyond Standing Rock', 'view_num': '6K', 'created_at': '6 years', 'shortdesc': '2017 (NR) 57 min. Director: Brian Malone Synopsis: BEYOND STANDING ROCK takes a close-up look at the controversy on the\\xa0...', 'collected_at': datetime.datetime(2024, 1, 6, 4, 47, 53, 891318)}\n",
            "{'video_url': '/watch?v=0dzbgIwXT-Y&pp=ygUNc3RhbmRpbmcgcm9jaw%3D%3D', 'user_url': '/@themyrnaloy5152', 'username': 'The Myrna Loy', 'title': 'The Myrna Soundstage Ep.7 - Chontay Standing Rock | Supaman', 'view_num': '2.8K', 'created_at': '2 years', 'shortdesc': 'The Myrna Soundstage, Presented by AARP Montana, is an exciting monthly web series spotlighting artists from Montana and\\xa0...', 'collected_at': datetime.datetime(2024, 1, 6, 4, 47, 53, 896954)}\n",
            "the crawling task is finished.\n"
          ]
        }
      ]
    },
    {
      "cell_type": "code",
      "source": [
        "# Create data on to Google Drive\n",
        "from google.colab import drive\n",
        "# Mount your Drive to the Colab VM.\n",
        "#drive._mount('/gdrive')\n",
        "drive.mount('/gdrive')\n",
        "\n",
        "# the file path where to store the output csv on google drive\n",
        "output_file = '/gdrive/My Drive/videos.csv'\n",
        "\n",
        "# Save the dataframe as a csv file\n",
        "df.to_csv(output_file, index=False)"
      ],
      "metadata": {
        "colab": {
          "base_uri": "https://localhost:8080/"
        },
        "id": "L3I9cWYBRI8r",
        "outputId": "721a72c6-1fcc-495b-e3ed-b571536f0b99"
      },
      "execution_count": null,
      "outputs": [
        {
          "output_type": "stream",
          "name": "stdout",
          "text": [
            "Mounted at /gdrive\n"
          ]
        }
      ]
    },
    {
      "cell_type": "code",
      "source": [
        "# download the csv to your local computer\n",
        "from google.colab import files\n",
        "files.download(output_file)\n",
        "print(\"the csv has been downloaded to your local computer. The program has been completed successfully.\")"
      ],
      "metadata": {
        "id": "ymNL_9hpTJwr",
        "outputId": "9cdfff37-7a65-44c2-918a-25280e2af663",
        "colab": {
          "base_uri": "https://localhost:8080/",
          "height": 35
        }
      },
      "execution_count": null,
      "outputs": [
        {
          "output_type": "display_data",
          "data": {
            "text/plain": [
              "<IPython.core.display.Javascript object>"
            ],
            "application/javascript": [
              "\n",
              "    async function download(id, filename, size) {\n",
              "      if (!google.colab.kernel.accessAllowed) {\n",
              "        return;\n",
              "      }\n",
              "      const div = document.createElement('div');\n",
              "      const label = document.createElement('label');\n",
              "      label.textContent = `Downloading \"${filename}\": `;\n",
              "      div.appendChild(label);\n",
              "      const progress = document.createElement('progress');\n",
              "      progress.max = size;\n",
              "      div.appendChild(progress);\n",
              "      document.body.appendChild(div);\n",
              "\n",
              "      const buffers = [];\n",
              "      let downloaded = 0;\n",
              "\n",
              "      const channel = await google.colab.kernel.comms.open(id);\n",
              "      // Send a message to notify the kernel that we're ready.\n",
              "      channel.send({})\n",
              "\n",
              "      for await (const message of channel.messages) {\n",
              "        // Send a message to notify the kernel that we're ready.\n",
              "        channel.send({})\n",
              "        if (message.buffers) {\n",
              "          for (const buffer of message.buffers) {\n",
              "            buffers.push(buffer);\n",
              "            downloaded += buffer.byteLength;\n",
              "            progress.value = downloaded;\n",
              "          }\n",
              "        }\n",
              "      }\n",
              "      const blob = new Blob(buffers, {type: 'application/binary'});\n",
              "      const a = document.createElement('a');\n",
              "      a.href = window.URL.createObjectURL(blob);\n",
              "      a.download = filename;\n",
              "      div.appendChild(a);\n",
              "      a.click();\n",
              "      div.remove();\n",
              "    }\n",
              "  "
            ]
          },
          "metadata": {}
        },
        {
          "output_type": "display_data",
          "data": {
            "text/plain": [
              "<IPython.core.display.Javascript object>"
            ],
            "application/javascript": [
              "download(\"download_aa5071ba-6988-4166-bb14-a1bc343eb2d2\", \"videos.csv\", 20634)"
            ]
          },
          "metadata": {}
        },
        {
          "output_type": "stream",
          "name": "stdout",
          "text": [
            "the csv has been downloaded to your local computer. The program has been completed successfully.\n"
          ]
        }
      ]
    }
  ]
}