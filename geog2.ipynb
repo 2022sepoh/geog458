{
  "nbformat": 4,
  "nbformat_minor": 0,
  "metadata": {
    "colab": {
      "name": "Untitled1.ipynb",
      "provenance": [],
      "authorship_tag": "ABX9TyOGrMPMFsOVN+UlFjXVjMFI",
      "include_colab_link": true
    },
    "kernelspec": {
      "name": "python3",
      "display_name": "Python 3"
    }
  },
  "cells": [
    {
      "cell_type": "markdown",
      "metadata": {
        "id": "view-in-github",
        "colab_type": "text"
      },
      "source": [
        "<a href=\"https://colab.research.google.com/github/jakobzhao/geog458/blob/master/geog2.ipynb\" target=\"_parent\"><img src=\"https://colab.research.google.com/assets/colab-badge.svg\" alt=\"Open In Colab\"/></a>"
      ]
    },
    {
      "cell_type": "code",
      "metadata": {
        "id": "kzK9LnjeSWSs",
        "colab_type": "code",
        "outputId": "0032e4f3-728c-425c-c9e7-e8bf54af9949",
        "colab": {
          "base_uri": "https://localhost:8080/",
          "height": 326
        }
      },
      "source": [
        "!python -m pip  install geocoder\n",
        "import geocoder\n",
        "loc = \"xi'an china\"\n",
        "\n",
        "g = geocoder.arcgis(loc)\n",
        "lat = g.current_result.lat\n",
        "lng = g.current_result.lng\n",
        "print(lat, lng)"
      ],
      "execution_count": 1,
      "outputs": [
        {
          "output_type": "stream",
          "text": [
            "Collecting geocoder\n",
            "\u001b[?25l  Downloading https://files.pythonhosted.org/packages/4f/6b/13166c909ad2f2d76b929a4227c952630ebaf0d729f6317eb09cbceccbab/geocoder-1.38.1-py2.py3-none-any.whl (98kB)\n",
            "\r\u001b[K     |███▎                            | 10kB 22.5MB/s eta 0:00:01\r\u001b[K     |██████▋                         | 20kB 3.2MB/s eta 0:00:01\r\u001b[K     |██████████                      | 30kB 4.6MB/s eta 0:00:01\r\u001b[K     |█████████████▎                  | 40kB 3.0MB/s eta 0:00:01\r\u001b[K     |████████████████▋               | 51kB 3.7MB/s eta 0:00:01\r\u001b[K     |████████████████████            | 61kB 4.3MB/s eta 0:00:01\r\u001b[K     |███████████████████████▎        | 71kB 5.0MB/s eta 0:00:01\r\u001b[K     |██████████████████████████▋     | 81kB 5.7MB/s eta 0:00:01\r\u001b[K     |██████████████████████████████  | 92kB 6.3MB/s eta 0:00:01\r\u001b[K     |████████████████████████████████| 102kB 3.8MB/s \n",
            "\u001b[?25hRequirement already satisfied: click in /usr/local/lib/python3.6/dist-packages (from geocoder) (7.0)\n",
            "Requirement already satisfied: requests in /usr/local/lib/python3.6/dist-packages (from geocoder) (2.21.0)\n",
            "Collecting ratelim\n",
            "  Downloading https://files.pythonhosted.org/packages/f2/98/7e6d147fd16a10a5f821db6e25f192265d6ecca3d82957a4fdd592cad49c/ratelim-0.1.6-py2.py3-none-any.whl\n",
            "Requirement already satisfied: future in /usr/local/lib/python3.6/dist-packages (from geocoder) (0.16.0)\n",
            "Requirement already satisfied: six in /usr/local/lib/python3.6/dist-packages (from geocoder) (1.12.0)\n",
            "Requirement already satisfied: idna<2.9,>=2.5 in /usr/local/lib/python3.6/dist-packages (from requests->geocoder) (2.8)\n",
            "Requirement already satisfied: certifi>=2017.4.17 in /usr/local/lib/python3.6/dist-packages (from requests->geocoder) (2019.11.28)\n",
            "Requirement already satisfied: chardet<3.1.0,>=3.0.2 in /usr/local/lib/python3.6/dist-packages (from requests->geocoder) (3.0.4)\n",
            "Requirement already satisfied: urllib3<1.25,>=1.21.1 in /usr/local/lib/python3.6/dist-packages (from requests->geocoder) (1.24.3)\n",
            "Requirement already satisfied: decorator in /usr/local/lib/python3.6/dist-packages (from ratelim->geocoder) (4.4.1)\n",
            "Installing collected packages: ratelim, geocoder\n",
            "Successfully installed geocoder-1.38.1 ratelim-0.1.6\n",
            "34.27050000000003 108.92512000000005\n"
          ],
          "name": "stdout"
        }
      ]
    }
  ]
}